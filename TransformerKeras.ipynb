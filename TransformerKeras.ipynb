{
  "nbformat": 4,
  "nbformat_minor": 0,
  "metadata": {
    "colab": {
      "private_outputs": true,
      "provenance": [],
      "mount_file_id": "https://github.com/erturkkadir/kurtahmini/blob/master/TransformerKeras.ipynb",
      "authorship_tag": "ABX9TyOg8QdMiB847AJytv+LN2Pf",
      "include_colab_link": true
    },
    "kernelspec": {
      "name": "python3",
      "display_name": "Python 3"
    },
    "language_info": {
      "name": "python"
    }
  },
  "cells": [
    {
      "cell_type": "markdown",
      "metadata": {
        "id": "view-in-github",
        "colab_type": "text"
      },
      "source": [
        "<a href=\"https://colab.research.google.com/github/erturkkadir/kurtahmini/blob/master/TransformerKeras.ipynb\" target=\"_parent\"><img src=\"https://colab.research.google.com/assets/colab-badge.svg\" alt=\"Open In Colab\"/></a>"
      ]
    },
    {
      "cell_type": "code",
      "execution_count": null,
      "metadata": {
        "id": "L1oYh5emctKb"
      },
      "outputs": [],
      "source": [
        "import pandas as pd\n",
        "import numpy as np\n",
        "import os\n",
        "from tensorflow  import keras\n",
        "from tensorflow.keras import layers"
      ]
    },
    {
      "cell_type": "code",
      "source": [
        "raw_data = pd.read_csv('./sample_data/kur.csv', header=None, names=[\"i\", \"t\", \"y\"])\n",
        "a_data = raw_data['y']\n",
        "print(len(a_data))"
      ],
      "metadata": {
        "id": "DAkzb0w-kwee"
      },
      "execution_count": null,
      "outputs": []
    },
    {
      "cell_type": "code",
      "source": [
        "def to_seq(seq_size, a_data):\n",
        "  x, y = [], []\n",
        "  for i in range(len(a_data)-seq_size):\n",
        "    window = a_data[i:(i+seq_size)]\n",
        "    after_window = a_data[i+seq_size]\n",
        "    window = [[x] for x in window]\n",
        "    x.append(window)\n",
        "    y.append(after_window)\n",
        "  return np.array(x[:150]), np.array(y[:150]), np.array(x[150:]), np.array(y[150:])\n"
      ],
      "metadata": {
        "id": "ZCapB2GTjRx2"
      },
      "execution_count": null,
      "outputs": []
    },
    {
      "cell_type": "code",
      "source": [
        "seq_size  = 15\n",
        "x_train, y_train, x_test, y_test = to_seq(seq_size, a_data)    \n",
        "print(x_train[-1])\n",
        "print(y_train[-1])\n",
        "\n",
        "print(x_test[-1])\n",
        "print(y_test[-1])"
      ],
      "metadata": {
        "id": "Cd8972wxjUBy"
      },
      "execution_count": null,
      "outputs": []
    },
    {
      "cell_type": "code",
      "source": [
        "def transformer_encoder(inputs, head_size, num_heads, ff_dim, dropout=0.2):\n",
        "  x = layers.LayerNormalization(epsilon=1e-6)(inputs)\n",
        "  x = layers.MultiHeadAttention(key_dim=head_size, num_heads=num_heads, dropout=dropout)(x,x)\n",
        "  x = layers.Dropout(dropout)(x)\n",
        "  res = x + inputs\n",
        "\n",
        "  x = layers.LayerNormalization(epsilon=1e-6) (res)\n",
        "  x = layers.Conv1D(filters=ff_dim, kernel_size=1, activation=\"tanh\")(x)\n",
        "  x = layers.Dropout(dropout)(x)\n",
        "  x = layers.Conv1D(filters=inputs.shape[-1], kernel_size=1)(x)\n",
        "  return x + res"
      ],
      "metadata": {
        "id": "vfdNjua6lEl-"
      },
      "execution_count": null,
      "outputs": []
    },
    {
      "cell_type": "code",
      "source": [
        "def build_model(input_shape, head_size, num_heads, ff_dim, num_transformer_blocks, mlp_units, dropout=0.2, mlp_dropout=0.2):\n",
        "  inputs = keras.Input(shape=input_shape)\n",
        "  x = inputs\n",
        "  for _ in range(num_transformer_blocks):\n",
        "    x = transformer_encoder(x, head_size, num_heads, ff_dim, dropout)\n",
        "  x = layers.GlobalAveragePooling1D(data_format=\"channels_first\")(x)\n",
        "  for dim in mlp_units:\n",
        "    x = layers.Dense(dim, activation=\"relu\")(x)\n",
        "    x = layers.Dropout(mlp_dropout)(x)\n",
        "  outputs = layers.Dense(1)(x)\n",
        "  return keras.Model(inputs, outputs)\n"
      ],
      "metadata": {
        "id": "2GVYPQLkmZyt"
      },
      "execution_count": null,
      "outputs": []
    },
    {
      "cell_type": "code",
      "source": [
        "print(x_train)\n",
        "print(y_train)"
      ],
      "metadata": {
        "id": "R1HcuA_ZsWoY"
      },
      "execution_count": null,
      "outputs": []
    },
    {
      "cell_type": "code",
      "source": [
        "input_shape = x_train.shape[1:]\n",
        "model = build_model(input_shape, head_size=256, num_heads=4, ff_dim=4, num_transformer_blocks=4, mlp_units=[128], dropout=0.2, mlp_dropout=0.2)\n",
        "model.compile(loss=\"mean_squared_error\", optimizer=keras.optimizers.Adam(learning_rate=1e-4))\n",
        "callbacks = [keras.callbacks.EarlyStopping(patience=10, restore_best_weights=True)]\n",
        "model.fit(x_train, y_train, validation_split=0.2, epochs=200, batch_size=10, callbacks=callbacks)\n",
        "\n",
        "model.evaluate(x_test, y_test, verbose=1)\n"
      ],
      "metadata": {
        "id": "VVkLqQk9ninJ"
      },
      "execution_count": null,
      "outputs": []
    },
    {
      "cell_type": "code",
      "source": [
        "from sklearn import metrics\n",
        "pred = model.predict(x_test)\n",
        "score = np.sqrt(metrics.mean_squared_error(pred, y_test))\n",
        "print(\"Score :  {}\".format(score))\n",
        "for i in range(seq_size-1):\n",
        "  print(y_test[i], pred[i], y_test[i]-pred[i])\n",
        "\n"
      ],
      "metadata": {
        "id": "VRa7GvcCtVcZ"
      },
      "execution_count": null,
      "outputs": []
    },
    {
      "cell_type": "code",
      "source": [
        "import matplotlib.pyplot as plt\n",
        "plt.plot(y_test)\n",
        "plt.plot(pred)\n",
        "plt.show()\n"
      ],
      "metadata": {
        "id": "l8uOPeBLwA6K"
      },
      "execution_count": null,
      "outputs": []
    }
  ]
}